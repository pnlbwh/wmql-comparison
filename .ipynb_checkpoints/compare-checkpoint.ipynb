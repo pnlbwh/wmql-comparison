{
 "cells": [
  {
   "cell_type": "markdown",
   "metadata": {},
   "source": [
    "# Comparing effects of DWI Preprocessing and WMQL queries on fiber bundle statistics"
   ]
  },
  {
   "cell_type": "markdown",
   "metadata": {},
   "source": [
    "## Get Data\n",
    "\n",
    "10 random INTRuST cases were picked, and WMQL was run under 6 scenarios:\n",
    "\n",
    "1. Original DWI's and original WMQL query\n",
    "2. Original DWI's and new WMQL query\n",
    "3. Harmonized DWI's and original WMQL query\n",
    "4. Harmonized DWI's and new WMQL query\n",
    "5. Harmonized/EPI corrected DWI's and original WMQL query\n",
    "6. Harmonized/EPI corrected DWI's and new WMQL query\n",
    "\n",
    "(new WMQL query is Nikos/Peter's suggested change to improve e.g ioff fiber bundle results)"
   ]
  },
  {
   "cell_type": "code",
   "execution_count": 1,
   "metadata": {
    "collapsed": false
   },
   "outputs": [],
   "source": [
    "load'csv'\n",
    "localpath=. '/Users/ryan/partners'&,  NB. get local path\n",
    "download=. ([: shell 'clusterget.sh '&,)`1:@.(fexist@:localpath)\n",
    "o=.'/data/pnl/intrust-notharmonized/tractmeasures_orig.csv'\n",
    "on=.'/data/pnl/intrust-notharmonized/wmql-newquery/tractmeasures.csv'\n",
    "h=.'/data/pnl/intrust-harmonized/tractmeasures.csv'\n",
    "hn=.'/data/pnl/intrust-harmonized/wmql-newquery/tractmeasures.csv'\n",
    "he=.'/data/pnl/intrust-harmonized-epi/tractmeasures.csv'\n",
    "hen=.'/data/pnl/intrust-harmonized-epi/wmql-newquery/tractmeasures.csv'\n",
    "download each csvpaths=.o;on;h;hn;he;hen\n",
    "csvs=. readcsv@:localpath each csvpaths"
   ]
  },
  {
   "cell_type": "markdown",
   "metadata": {},
   "source": [
    "## Comparison\n",
    "\n",
    "For each case and for each fiber bundle, we have mean FA, standard deviation of FA,\n",
    "and number of tracts. Under each of the 6 DWI/WMQL scenarios listed above, we average over the 10 cases and calculate\n",
    "4 statistics for each bundle:\n",
    "\n",
    "1. Number of cases for which fiber bundle was found\n",
    "2. Mean number of tracts (group by 'num_fibers-num_fibers' in tractmeasures.csv)\n",
    "3. Average mean FA (group by 'FA-mean' in tractmeasures.csv)\n",
    "4. Average standard deviation of FA (group by 'FA-stDev' in tractmeasures.csv)\n",
    "\n",
    "In the boxes below, the rows are DWI/WMQL scenarios and the numbers are the 4 statistics.  The\n",
    "rows are grouped by fiber bundle to compare the effect of each scenario on a fiber bundle's\n",
    "statistics."
   ]
  },
  {
   "cell_type": "code",
   "execution_count": 2,
   "metadata": {
    "collapsed": false
   },
   "outputs": [
    {
     "name": "stdout",
     "output_type": "stream",
     "text": [
      "┌─────────────┬─────────────────────────┬──────────────────────────────────────────────────────┐\n",
      "│af.left      │10 390.8 695.219 167.569 │intrust-notharmonized/tractmeasures_orig.csv          │\n",
      "├─────────────┼─────────────────────────┼──────────────────────────────────────────────────────┤\n",
      "│af.left      │10 472.9 686.361 167.255 │intrust-notharmonized/wmql-newquery/tractmeasures.csv │\n",
      "├─────────────┼─────────────────────────┼──────────────────────────────────────────────────────┤\n",
      "│af.left      │10 335.5 719.543 154.992 │intrust-harmonized/tractmeasures.csv                  │\n",
      "├─────────────┼─────────────────────────┼──────────────────────────────────────────────────────┤\n",
      "│af.left      │10 363.9 712.109 157.996 │intrust-harmonized/wmql-newquery/tractmeasures.csv    │\n",
      "├─────────────┼─────────────────────────┼──────────────────────────────────────────────────────┤\n",
      "│af.left      │10 350.9 718.029 156.456 │intrust-harmonized-epi/tractmeasures.csv              │\n",
      "├─────────────┼─────────────────────────┼──────────────────────────────────────────────────────┤\n",
      "│af.left      │10 389.7 706.881 160.795 │intrust-harmonized-epi/wmql-newquery/tractmeasures.csv│\n",
      "...\n",
      "│uf.right     │9 32.5556 602.534 153.649│intrust-notharmonized/tractmeasures_orig.csv          │\n",
      "├─────────────┼─────────────────────────┼──────────────────────────────────────────────────────┤\n",
      "│uf.right     │9 32.5556 602.534 153.649│intrust-notharmonized/wmql-newquery/tractmeasures.csv │\n",
      "├─────────────┼─────────────────────────┼──────────────────────────────────────────────────────┤\n",
      "│uf.right     │10 116.8 567.928 153.101 │intrust-harmonized/tractmeasures.csv                  │\n",
      "├─────────────┼─────────────────────────┼──────────────────────────────────────────────────────┤\n",
      "│uf.right     │10 116.8 567.928 153.101 │intrust-harmonized/wmql-newquery/tractmeasures.csv    │\n",
      "├─────────────┼─────────────────────────┼──────────────────────────────────────────────────────┤\n",
      "│uf.right     │10 94.6 562.459 155.468  │intrust-harmonized-epi/tractmeasures.csv              │\n",
      "├─────────────┼─────────────────────────┼──────────────────────────────────────────────────────┤\n",
      "│uf.right     │10 94.6 562.459 155.468  │intrust-harmonized-epi/wmql-newquery/tractmeasures.csv│\n",
      "└─────────────┴─────────────────────────┴──────────────────────────────────────────────────────┘\n"
     ]
    }
   ],
   "source": [
    "NB. Functions\n",
    "load'stats regex'\n",
    "getcol=:}.@:([ {\"1~ (i.~ {.)~) \n",
    "tonum=. \".every\n",
    "removeid=: ('^[[:digit:]]{3}_[[:digit:][:alpha:]]{3}_[[:digit:][:alpha:]]{3}_';'')&rxrplc\n",
    "tractcol=. (removeid each)@:(getcol&(<'tract'))\n",
    "addcol=: (<@[ ,.~ ])each\n",
    "has=: +./@:rxE\n",
    "NB. Get stats\n",
    "Stats=:/:~@:(~.@:tractcol ,. tractcol <@(#,mean)/. tonum@:getcol&('num_fibers-num_fibers';'FA-mean';'FA-stDev')) each csvs\n",
    "GroupedStats=./:~ ({.\"1 </. ]) ; (10&}. each csvpaths) addcol Stats\n",
    "Result=. }. ; a:&,each  (#~ 'cb|uf|af|slf|ilf|ioff'&has@:,@:(\":@>)@>) GroupedStats\n",
    "'wmql_comparison.csv' writecsv~ Result\n",
    "Result"
   ]
  }
 ],
 "metadata": {
  "kernelspec": {
   "display_name": "J",
   "language": "J",
   "name": "jkernel"
  },
  "language_info": {
   "file_extension": "ijs",
   "mimetype": "text/x-J",
   "name": "J"
  }
 },
 "nbformat": 4,
 "nbformat_minor": 0
}
